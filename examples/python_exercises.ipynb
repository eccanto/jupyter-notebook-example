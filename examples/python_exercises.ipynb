{
 "cells": [
  {
   "cell_type": "markdown",
   "id": "75f3d508",
   "metadata": {},
   "source": [
    "# Python Exercises\n",
    "\n",
    "Knowledge required: https://pythonspot.com/beginner/"
   ]
  },
  {
   "cell_type": "markdown",
   "id": "97c59e38",
   "metadata": {},
   "source": [
    "---\n",
    "\n",
    "## Exercise 1\n",
    "\n",
    "Write a program to accept a name from the user and display \"hi `[name]`!\".\n",
    "\n",
    "**Topics**: Text input, Text output.\n",
    "\n",
    "### Expected Output\n",
    "\n",
    "```bash\n",
    "Enter your name: Alexis\n",
    "hi Alexis!\n",
    "```"
   ]
  },
  {
   "cell_type": "code",
   "execution_count": null,
   "id": "81f5a0a8",
   "metadata": {},
   "outputs": [],
   "source": []
  },
  {
   "cell_type": "markdown",
   "id": "22ce9b81",
   "metadata": {},
   "source": [
    "---\n",
    "## Exersice 2\n",
    "\n",
    "Write a function to return `True` if a number is equal to `7`, otherwise return `False`.\n",
    "\n",
    "**Topics**: Functions, If statements, arithmetic.\n",
    "\n",
    "### Expected Code\n",
    "\n",
    "```ipython\n",
    "In [0]: is_equal_to_7(7)\n",
    "Out[0]: True\n",
    "    \n",
    "In [1]: is_equal_to_7(8)\n",
    "Out[1]: False\n",
    "```"
   ]
  },
  {
   "cell_type": "code",
   "execution_count": null,
   "id": "71668b0f",
   "metadata": {},
   "outputs": [],
   "source": []
  },
  {
   "cell_type": "markdown",
   "id": "ae548472",
   "metadata": {},
   "source": [
    "---\n",
    "## Exersice 3\n",
    "\n",
    "Write a function to return `True` if the first and last number of a given list is same. If numbers are different then return `False`.\n",
    "\n",
    "**Topics**: Functions, Lists.\n",
    "\n",
    "### Expected Code\n",
    "\n",
    "```ipython\n",
    "In [0]: is_equal_first_and_last([10, 20, 30, 10])\n",
    "Out[0]: True\n",
    "    \n",
    "In [1]: is_equal_first_and_last([10, 20, 30, 40])\n",
    "Out[1]: False\n",
    "```"
   ]
  },
  {
   "cell_type": "code",
   "execution_count": null,
   "id": "60abb3e4",
   "metadata": {},
   "outputs": [],
   "source": []
  },
  {
   "cell_type": "markdown",
   "id": "a860dfcb",
   "metadata": {},
   "source": [
    "---\n",
    "## Exercise 4\n",
    "\n",
    "Write a function to remove characters from a string starting from `0` up to `n` and print the new string.\n",
    "\n",
    "**Topics**: Functions, String slices.\n",
    "\n",
    "### Expected Code\n",
    "\n",
    "```ipython\n",
    "In [0]: delete_chars('This is a text', 5)\n",
    "Out[0]: 'is a text'\n",
    "```"
   ]
  },
  {
   "cell_type": "code",
   "execution_count": null,
   "id": "a4236361",
   "metadata": {},
   "outputs": [],
   "source": []
  },
  {
   "cell_type": "markdown",
   "id": "17d3f6fc",
   "metadata": {},
   "source": [
    "---\n",
    "## Exersice 5\n",
    "\n",
    "Write a function to return `True` if a number is divisible by `5`, otherwise return `False`.\n",
    "\n",
    "**Topics**: Functions, If statements, arithmetic.\n",
    "\n",
    "### Expected Code\n",
    "\n",
    "```ipython\n",
    "In [0]: is_divisble_by_5(20)\n",
    "Out[0]: True\n",
    "    \n",
    "In [1]: is_divisble_by_5(22)\n",
    "Out[1]: False\n",
    "```"
   ]
  },
  {
   "cell_type": "code",
   "execution_count": null,
   "id": "66ccbed1",
   "metadata": {},
   "outputs": [],
   "source": []
  },
  {
   "cell_type": "markdown",
   "id": "b0a6e8a3",
   "metadata": {},
   "source": [
    "---\n",
    "## Exersice 6\n",
    "\n",
    "Write a function to find how many items the substring \"`This`\" appears in the given string.\n",
    "\n",
    "**Topics**: Functions, Lists.\n",
    "\n",
    "### Expected Code\n",
    "    \n",
    "```ipython\n",
    "In [0]: appear_count('This is a text. This is an example.')\n",
    "Out[0]: 2\n",
    "    \n",
    "In [1]: appear_count('test!')\n",
    "Out[1]: 0\n",
    "```"
   ]
  },
  {
   "cell_type": "code",
   "execution_count": null,
   "id": "4dab55bc",
   "metadata": {},
   "outputs": [],
   "source": []
  },
  {
   "cell_type": "markdown",
   "id": "05395cef",
   "metadata": {},
   "source": [
    "---\n",
    "## Exersice 7\n",
    "\n",
    "Print the following pattern.\n",
    "\n",
    "**Topics**: Range, Loops, Text output.\n",
    "\n",
    "### Expected Output\n",
    "\n",
    "```bash\n",
    "1 \n",
    "2 2 \n",
    "3 3 3 \n",
    "4 4 4 4 \n",
    "5 5 5 5 5\n",
    "```"
   ]
  },
  {
   "cell_type": "code",
   "execution_count": null,
   "id": "db2499af",
   "metadata": {},
   "outputs": [],
   "source": []
  },
  {
   "cell_type": "markdown",
   "id": "50b999e4",
   "metadata": {},
   "source": [
    "---\n",
    "## Exersice 8\n",
    "\n",
    "Write a function to find the common elements in two lists.\n",
    "\n",
    "**Topics**: Functions, Sets.\n",
    "\n",
    "### Expected Code\n",
    "    \n",
    "```ipython\n",
    "In [0]: common_elements([1, 3, 4, 9, 2], [5, 7, 2, 11, 1])\n",
    "Out[0]: {1, 2}\n",
    "    \n",
    "In [1]: common_elements([6, 5], [])\n",
    "Out[1]: set()\n",
    "```"
   ]
  },
  {
   "cell_type": "code",
   "execution_count": null,
   "id": "9f3e4be0",
   "metadata": {},
   "outputs": [],
   "source": []
  },
  {
   "cell_type": "markdown",
   "id": "8224cbab",
   "metadata": {},
   "source": [
    "---\n",
    "## Exersice 9\n",
    "\n",
    "Write a class representing a Person with a method called \"say_hi\" that prints on the screen \"Hello, my name is `[name]`\". This class must restrict the access to internal field `[name]`.\n",
    "\n",
    "**Topics**: Classes, Encapsulation.\n",
    "\n",
    "### Expected Code\n",
    "    \n",
    "```ipython\n",
    "In [0]: alexis = Person('Alexis')\n",
    "In [1]: alexis.say_hi()\n",
    "Out[1]: Hi, my name is Alexis\n",
    "    \n",
    "In [2]: alexis.__name\n",
    "Out[2]: AttributeError: 'Person' object has no attribute '__name'\n",
    "```\n"
   ]
  },
  {
   "cell_type": "code",
   "execution_count": null,
   "id": "6ac92f3e",
   "metadata": {},
   "outputs": [],
   "source": []
  },
  {
   "cell_type": "markdown",
   "id": "f56d70c8",
   "metadata": {},
   "source": [
    "---\n",
    "## Exersice 10\n",
    "\n",
    "Implement the Fibonacci function using recursive functions.\n",
    "\n",
    "$$\n",
    "fibonacci(n) =\n",
    "\\begin{cases}\n",
    "0,    & \\text{if $n$ is 0} \\\\\n",
    "1,    & \\text{if $n$ is 1} \\\\\n",
    "fibonacci(n - 1) + fibonacci(n - 2), & \\text{if $n$ >  1}\n",
    "\\end{cases}\n",
    "$$\n",
    "\n",
    "**Topics**: Recursive functions.\n",
    "\n",
    "### Expected Code\n",
    "    \n",
    "```ipython\n",
    "In [0]: fibonacci(8)\n",
    "Out[0]: 21\n",
    "```"
   ]
  },
  {
   "cell_type": "code",
   "execution_count": null,
   "id": "ee358368",
   "metadata": {},
   "outputs": [],
   "source": []
  }
 ],
 "metadata": {
  "celltoolbar": "Raw Cell Format",
  "kernelspec": {
   "display_name": "Python 3 (ipykernel)",
   "language": "python",
   "name": "python3"
  },
  "language_info": {
   "codemirror_mode": {
    "name": "ipython",
    "version": 3
   },
   "file_extension": ".py",
   "mimetype": "text/x-python",
   "name": "python",
   "nbconvert_exporter": "python",
   "pygments_lexer": "ipython3",
   "version": "3.8.10"
  }
 },
 "nbformat": 4,
 "nbformat_minor": 5
}
