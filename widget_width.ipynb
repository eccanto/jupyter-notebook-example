{
 "cells": [
  {
   "cell_type": "code",
   "execution_count": 1,
   "id": "5d46983b",
   "metadata": {},
   "outputs": [],
   "source": [
    "import numpy\n",
    "from PIL import Image"
   ]
  },
  {
   "cell_type": "code",
   "execution_count": 2,
   "id": "98ef6d28",
   "metadata": {},
   "outputs": [
    {
     "data": {
      "image/png": "[encoded data removed]",
      "text/plain": [
       "<PIL.Image.Image image mode=RGBA size=216x384 at 0x7F2FC039CDF0>"
      ]
     },
     "metadata": {},
     "output_type": "display_data"
    },
    {
     "name": "stdout",
     "output_type": "stream",
     "text": [
      "image size: (1080, 1920)\n"
     ]
    }
   ],
   "source": [
    "screen = Image.open('./sample/screen.png')\n",
    "\n",
    "# display screen image, scale = 20%\n",
    "display(screen.resize((int(screen.width * 0.2), int(screen.height * 0.2))))\n",
    "\n",
    "print(f'image size: {screen.size}')"
   ]
  },
  {
   "cell_type": "code",
   "execution_count": 3,
   "id": "45b35a10",
   "metadata": {},
   "outputs": [
    {
     "data": {
      "image/png": "[encoded data removed]",
      "text/plain": [
       "<PIL.Image.Image image mode=RGBA size=470x220 at 0x7F2F97ED22B0>"
      ]
     },
     "metadata": {},
     "output_type": "display_data"
    }
   ],
   "source": [
    "widget = screen.crop((50, 1700, 520, 1920))\n",
    "\n",
    "display(widget)"
   ]
  },
  {
   "cell_type": "code",
   "execution_count": 4,
   "id": "7f4e09a2",
   "metadata": {},
   "outputs": [
    {
     "name": "stdout",
     "output_type": "stream",
     "text": [
      "background color: [239 239 239 255]\n"
     ]
    }
   ],
   "source": [
    "widget_array = numpy.array(widget)\n",
    "\n",
    "background_color = widget_array[0][0]\n",
    "\n",
    "print(f'background color: {background_color}')"
   ]
  },
  {
   "cell_type": "code",
   "execution_count": 5,
   "id": "0b3a3a2a",
   "metadata": {},
   "outputs": [
    {
     "name": "stdout",
     "output_type": "stream",
     "text": [
      "widget width: 349px\n"
     ]
    }
   ],
   "source": [
    "widget_pixeles = numpy.where(widget_array != background_color)\n",
    "\n",
    "widget_left  = min(widget_pixeles[1])\n",
    "widget_right = max(widget_pixeles[1])\n",
    "\n",
    "print(f'widget width: {widget_right - widget_left}px')"
   ]
  },
  {
   "cell_type": "code",
   "execution_count": null,
   "id": "f14bd85d",
   "metadata": {},
   "outputs": [],
   "source": []
  }
 ],
 "metadata": {
  "kernelspec": {
   "display_name": "Python 3 (ipykernel)",
   "language": "python",
   "name": "python3"
  },
  "language_info": {
   "codemirror_mode": {
    "name": "ipython",
    "version": 3
   },
   "file_extension": ".py",
   "mimetype": "text/x-python",
   "name": "python",
   "nbconvert_exporter": "python",
   "pygments_lexer": "ipython3",
   "version": "3.9.12"
  }
 },
 "nbformat": 4,
 "nbformat_minor": 5
}
